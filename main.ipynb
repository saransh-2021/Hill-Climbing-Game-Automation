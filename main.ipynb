{
 "cells": [
  {
   "cell_type": "code",
   "execution_count": null,
   "metadata": {},
   "outputs": [],
   "source": [
    "!pip install -r requirements.txt"
   ]
  },
  {
   "cell_type": "code",
   "execution_count": 2,
   "metadata": {},
   "outputs": [],
   "source": [
    "import cv2\n",
    "import mediapipe as mp\n",
    "import time\n",
    "from directkeys import right_pressed,left_pressed\n",
    "from directkeys import PressKey, ReleaseKey  "
   ]
  },
  {
   "cell_type": "code",
   "execution_count": 3,
   "metadata": {},
   "outputs": [],
   "source": [
    "break_key_pressed=left_pressed\n",
    "accelerato_key_pressed=right_pressed\n",
    "\n",
    "time.sleep(2.0)\n",
    "current_key_pressed = set()\n",
    "\n",
    "mp_draw=mp.solutions.drawing_utils\n",
    "mp_hand=mp.solutions.hands\n",
    "\n",
    "tipIds=[4,8,12,16,20]\n",
    "\n",
    "video=cv2.VideoCapture(0)"
   ]
  },
  {
   "cell_type": "code",
   "execution_count": 4,
   "metadata": {},
   "outputs": [],
   "source": [
    "with mp_hand.Hands(min_detection_confidence=0.5,\n",
    "               min_tracking_confidence=0.5) as hands:\n",
    "    while True:\n",
    "        keyPressed = False\n",
    "        break_pressed=False\n",
    "        accelerator_pressed=False\n",
    "        key_count=0\n",
    "        key_pressed=0\n",
    "        ret,image=video.read()\n",
    "        image=cv2.cvtColor(image, cv2.COLOR_BGR2RGB)\n",
    "        image.flags.writeable=False\n",
    "        results=hands.process(image)\n",
    "        image.flags.writeable=True\n",
    "        image=cv2.cvtColor(image, cv2.COLOR_RGB2BGR)\n",
    "        lmList=[]\n",
    "        if results.multi_hand_landmarks:\n",
    "            for hand_landmark in results.multi_hand_landmarks:\n",
    "                myHands=results.multi_hand_landmarks[0]\n",
    "                for id, lm in enumerate(myHands.landmark):\n",
    "                    h,w,c=image.shape\n",
    "                    cx,cy= int(lm.x*w), int(lm.y*h)\n",
    "                    lmList.append([id,cx,cy])\n",
    "                mp_draw.draw_landmarks(image, hand_landmark, mp_hand.HAND_CONNECTIONS)\n",
    "        fingers=[]\n",
    "        if len(lmList)!=0:\n",
    "            if lmList[tipIds[0]][1] > lmList[tipIds[0]-1][1]:\n",
    "                fingers.append(1)\n",
    "            else:\n",
    "                fingers.append(0)\n",
    "            for id in range(1,5):\n",
    "                if lmList[tipIds[id]][2] < lmList[tipIds[id]-2][2]:\n",
    "                    fingers.append(1)\n",
    "                else:\n",
    "                    fingers.append(0)\n",
    "            total=fingers.count(1)\n",
    "            if total==0:\n",
    "                cv2.rectangle(image, (20, 300), (270, 425), (0, 255, 0), cv2.FILLED)\n",
    "                cv2.putText(image, \"BRAKE\", (45, 375), cv2.FONT_HERSHEY_SIMPLEX,\n",
    "                    2, (255, 0, 0), 5)\n",
    "                PressKey(break_key_pressed)\n",
    "                break_pressed=True\n",
    "                current_key_pressed.add(break_key_pressed)\n",
    "                key_pressed=break_key_pressed\n",
    "                keyPressed = True\n",
    "                key_count=key_count+1\n",
    "            elif total==5:\n",
    "                cv2.rectangle(image, (20, 300), (270, 425), (0, 255, 0), cv2.FILLED)\n",
    "                cv2.putText(image, \" GAS\", (45, 375), cv2.FONT_HERSHEY_SIMPLEX,\n",
    "                    2, (255, 0, 0), 5)\n",
    "                PressKey(accelerato_key_pressed)\n",
    "                key_pressed=accelerato_key_pressed\n",
    "                accelerator_pressed=True\n",
    "                keyPressed = True\n",
    "                current_key_pressed.add(accelerato_key_pressed)\n",
    "                key_count=key_count+1\n",
    "        if not keyPressed and len(current_key_pressed) != 0:\n",
    "            for key in current_key_pressed:\n",
    "                ReleaseKey(key)\n",
    "            current_key_pressed = set()\n",
    "        elif key_count==1 and len(current_key_pressed)==2:    \n",
    "            for key in current_key_pressed:             \n",
    "                if key_pressed!=key:\n",
    "                    ReleaseKey(key)\n",
    "            current_key_pressed = set()\n",
    "            for key in current_key_pressed:\n",
    "                ReleaseKey(key)\n",
    "            current_key_pressed = set()\n",
    "        cv2.imshow(\"Frame\",image)\n",
    "        k=cv2.waitKey(1)\n",
    "        if k==ord('q'):\n",
    "            break\n",
    "video.release()\n",
    "cv2.destroyAllWindows()"
   ]
  }
 ],
 "metadata": {
  "kernelspec": {
   "display_name": "Python 3",
   "language": "python",
   "name": "python3"
  },
  "language_info": {
   "codemirror_mode": {
    "name": "ipython",
    "version": 3
   },
   "file_extension": ".py",
   "mimetype": "text/x-python",
   "name": "python",
   "nbconvert_exporter": "python",
   "pygments_lexer": "ipython3",
   "version": "3.11.5"
  }
 },
 "nbformat": 4,
 "nbformat_minor": 2
}
